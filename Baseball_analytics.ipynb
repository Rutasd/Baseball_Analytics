{
 "cells": [
  {
   "cell_type": "code",
   "execution_count": 142,
   "id": "0940bb7a",
   "metadata": {},
   "outputs": [],
   "source": [
    "import pandas as pd\n",
    "df = pd.read_excel('Baseball Data.xlsx')"
   ]
  },
  {
   "cell_type": "code",
   "execution_count": 143,
   "id": "07fb33ca",
   "metadata": {},
   "outputs": [
    {
     "data": {
      "text/html": [
       "<div>\n",
       "<style scoped>\n",
       "    .dataframe tbody tr th:only-of-type {\n",
       "        vertical-align: middle;\n",
       "    }\n",
       "\n",
       "    .dataframe tbody tr th {\n",
       "        vertical-align: top;\n",
       "    }\n",
       "\n",
       "    .dataframe thead th {\n",
       "        text-align: right;\n",
       "    }\n",
       "</style>\n",
       "<table border=\"1\" class=\"dataframe\">\n",
       "  <thead>\n",
       "    <tr style=\"text-align: right;\">\n",
       "      <th></th>\n",
       "      <th>PLAYER</th>\n",
       "      <th>POS</th>\n",
       "      <th>Team</th>\n",
       "      <th>Games Played</th>\n",
       "      <th>At-bat</th>\n",
       "      <th>Runs</th>\n",
       "      <th>Hits</th>\n",
       "      <th>Doubles</th>\n",
       "      <th>Triples</th>\n",
       "      <th>Home Runs</th>\n",
       "      <th>Runs Batted In</th>\n",
       "      <th>Walks</th>\n",
       "      <th>Strikeout</th>\n",
       "      <th>Stolen Bases</th>\n",
       "      <th>Caught Stealing</th>\n",
       "      <th>Batting Average</th>\n",
       "      <th>Slugging Percentage</th>\n",
       "      <th>On-base Percentage</th>\n",
       "      <th>On-base Plus Slugging'</th>\n",
       "    </tr>\n",
       "  </thead>\n",
       "  <tbody>\n",
       "    <tr>\n",
       "      <th>0</th>\n",
       "      <td>Abreu, Jose</td>\n",
       "      <td>1B</td>\n",
       "      <td>CHW</td>\n",
       "      <td>159</td>\n",
       "      <td>624</td>\n",
       "      <td>67</td>\n",
       "      <td>184</td>\n",
       "      <td>32</td>\n",
       "      <td>1</td>\n",
       "      <td>25</td>\n",
       "      <td>100</td>\n",
       "      <td>47</td>\n",
       "      <td>125</td>\n",
       "      <td>0</td>\n",
       "      <td>2</td>\n",
       "      <td>0.294872</td>\n",
       "      <td>0.469551</td>\n",
       "      <td>0.353957</td>\n",
       "      <td>0.823508</td>\n",
       "    </tr>\n",
       "    <tr>\n",
       "      <th>1</th>\n",
       "      <td>Ackley, Dustin</td>\n",
       "      <td>1B</td>\n",
       "      <td>NYY</td>\n",
       "      <td>28</td>\n",
       "      <td>61</td>\n",
       "      <td>6</td>\n",
       "      <td>9</td>\n",
       "      <td>0</td>\n",
       "      <td>0</td>\n",
       "      <td>0</td>\n",
       "      <td>4</td>\n",
       "      <td>8</td>\n",
       "      <td>9</td>\n",
       "      <td>0</td>\n",
       "      <td>0</td>\n",
       "      <td>0.147541</td>\n",
       "      <td>0.147541</td>\n",
       "      <td>0.242857</td>\n",
       "      <td>0.390398</td>\n",
       "    </tr>\n",
       "    <tr>\n",
       "      <th>2</th>\n",
       "      <td>Adames, Cristhian</td>\n",
       "      <td>SS</td>\n",
       "      <td>COL</td>\n",
       "      <td>121</td>\n",
       "      <td>225</td>\n",
       "      <td>25</td>\n",
       "      <td>49</td>\n",
       "      <td>7</td>\n",
       "      <td>3</td>\n",
       "      <td>2</td>\n",
       "      <td>17</td>\n",
       "      <td>24</td>\n",
       "      <td>47</td>\n",
       "      <td>2</td>\n",
       "      <td>3</td>\n",
       "      <td>0.217778</td>\n",
       "      <td>0.302222</td>\n",
       "      <td>0.304348</td>\n",
       "      <td>0.606570</td>\n",
       "    </tr>\n",
       "    <tr>\n",
       "      <th>3</th>\n",
       "      <td>Adams, Matt</td>\n",
       "      <td>1B</td>\n",
       "      <td>STL</td>\n",
       "      <td>118</td>\n",
       "      <td>297</td>\n",
       "      <td>37</td>\n",
       "      <td>74</td>\n",
       "      <td>18</td>\n",
       "      <td>0</td>\n",
       "      <td>16</td>\n",
       "      <td>54</td>\n",
       "      <td>25</td>\n",
       "      <td>81</td>\n",
       "      <td>0</td>\n",
       "      <td>1</td>\n",
       "      <td>0.249158</td>\n",
       "      <td>0.471380</td>\n",
       "      <td>0.308869</td>\n",
       "      <td>0.780249</td>\n",
       "    </tr>\n",
       "    <tr>\n",
       "      <th>4</th>\n",
       "      <td>Adrianza, Ehire</td>\n",
       "      <td>SS</td>\n",
       "      <td>SF</td>\n",
       "      <td>40</td>\n",
       "      <td>63</td>\n",
       "      <td>3</td>\n",
       "      <td>16</td>\n",
       "      <td>2</td>\n",
       "      <td>0</td>\n",
       "      <td>2</td>\n",
       "      <td>7</td>\n",
       "      <td>2</td>\n",
       "      <td>13</td>\n",
       "      <td>0</td>\n",
       "      <td>1</td>\n",
       "      <td>0.253968</td>\n",
       "      <td>0.380952</td>\n",
       "      <td>0.298507</td>\n",
       "      <td>0.679460</td>\n",
       "    </tr>\n",
       "  </tbody>\n",
       "</table>\n",
       "</div>"
      ],
      "text/plain": [
       "              PLAYER POS Team  Games Played  At-bat  Runs  Hits  Doubles  \\\n",
       "0        Abreu, Jose  1B  CHW           159     624    67   184       32   \n",
       "1     Ackley, Dustin  1B  NYY            28      61     6     9        0   \n",
       "2  Adames, Cristhian  SS  COL           121     225    25    49        7   \n",
       "3        Adams, Matt  1B  STL           118     297    37    74       18   \n",
       "4    Adrianza, Ehire  SS   SF            40      63     3    16        2   \n",
       "\n",
       "   Triples  Home Runs  Runs Batted In  Walks  Strikeout  Stolen Bases  \\\n",
       "0        1         25             100     47        125             0   \n",
       "1        0          0               4      8          9             0   \n",
       "2        3          2              17     24         47             2   \n",
       "3        0         16              54     25         81             0   \n",
       "4        0          2               7      2         13             0   \n",
       "\n",
       "   Caught Stealing  Batting Average  Slugging Percentage  On-base Percentage  \\\n",
       "0                2         0.294872             0.469551            0.353957   \n",
       "1                0         0.147541             0.147541            0.242857   \n",
       "2                3         0.217778             0.302222            0.304348   \n",
       "3                1         0.249158             0.471380            0.308869   \n",
       "4                1         0.253968             0.380952            0.298507   \n",
       "\n",
       "   On-base Plus Slugging'  \n",
       "0                0.823508  \n",
       "1                0.390398  \n",
       "2                0.606570  \n",
       "3                0.780249  \n",
       "4                0.679460  "
      ]
     },
     "execution_count": 143,
     "metadata": {},
     "output_type": "execute_result"
    }
   ],
   "source": [
    "df.head()"
   ]
  },
  {
   "cell_type": "code",
   "execution_count": 144,
   "id": "5d614b84",
   "metadata": {},
   "outputs": [],
   "source": [
    "max_batting_avg = df[df[\"Batting Average\"] == max(df[\"Batting Average\"])]"
   ]
  },
  {
   "cell_type": "code",
   "execution_count": 145,
   "id": "533c0560",
   "metadata": {},
   "outputs": [
    {
     "name": "stdout",
     "output_type": "stream",
     "text": [
      "Player with max batting average:  Perez, Yefri\n",
      "The maximum batting average is:  0.666667\n"
     ]
    }
   ],
   "source": [
    "print(\"Player with max batting average: \",max_batting_avg[\"PLAYER\"].to_string(index=False))\n",
    "print(\"The maximum batting average is: \",max_batting_avg[\"Batting Average\"].to_string(index=False))"
   ]
  },
  {
   "cell_type": "code",
   "execution_count": 146,
   "id": "8911d106",
   "metadata": {},
   "outputs": [],
   "source": [
    "min_batting_avg = df[df[\"Batting Average\"] == min(df[\"Batting Average\"])]"
   ]
  },
  {
   "cell_type": "code",
   "execution_count": 147,
   "id": "6b89fcd0",
   "metadata": {},
   "outputs": [
    {
     "name": "stdout",
     "output_type": "stream",
     "text": [
      "Player with min batting average:  Aguilar, Jesus\n",
      "The minimum batting average is:  0.0\n"
     ]
    }
   ],
   "source": [
    "print(\"Player with min batting average: \",min_batting_avg[\"PLAYER\"].iloc[0])\n",
    "print(\"The minimum batting average is: \",min_batting_avg[\"Batting Average\"].iloc[0])"
   ]
  },
  {
   "cell_type": "code",
   "execution_count": 148,
   "id": "6aa819f1",
   "metadata": {},
   "outputs": [
    {
     "name": "stdout",
     "output_type": "stream",
     "text": [
      "Player with maximum home runs per game:  Mancini, Trey\n"
     ]
    }
   ],
   "source": [
    "df[\"Home Runs per Game\"]=df[\"Home Runs\"]/df[\"Games Played\"]\n",
    "max_runs_per_game = df.loc[df[\"Home Runs per Game\"].idxmax()]\n",
    "print(\"Player with maximum home runs per game: \",max_runs_per_game.PLAYER)"
   ]
  },
  {
   "cell_type": "code",
   "execution_count": 149,
   "id": "f5a94b85",
   "metadata": {},
   "outputs": [
    {
     "data": {
      "image/png": "[encoded data removed]",
      "text/plain": [
       "<Figure size 640x480 with 1 Axes>"
      ]
     },
     "metadata": {},
     "output_type": "display_data"
    }
   ],
   "source": [
    "import matplotlib.pyplot as plt\n",
    "plt.scatter(df[\"Batting Average\"], df[\"Home Runs per Game\"])\n",
    "plt.xlabel(\"Batting Average\")\n",
    "plt.ylabel(\"Home Runs per Game\")\n",
    "plt.show()"
   ]
  },
  {
   "cell_type": "code",
   "execution_count": 150,
   "id": "a2df4e5d",
   "metadata": {},
   "outputs": [
    {
     "name": "stdout",
     "output_type": "stream",
     "text": [
      "[159  28 121 118  40   9  90  35  16   6  67  47 156  57 161   2 109  64\n",
      "  99  13 147 118  55  69 160  71   7  31  57  68 126 142  70  21  48 103\n",
      " 115 117  88  64  44 157 151 153  34  10  71 158 143  90 106  38 157  24\n",
      "   6  90 123 114 156  11 135  49  25  13  40  75  75 148 155  10  97  39\n",
      "  36  54  97  92  34 142 151 158  61 103 157  41   5  16 161  27 129 111\n",
      " 160  84 110   9 113  47 113 151   4  13  55 101 133  57 126  54  48  22\n",
      "  28  99  10  56  54 109  49  76 153  31   9 121 156  30 122 116 155   4\n",
      "  34  20 128  63  84  75   1 158   8 150 134 130 104  19  19  99  74 156\n",
      " 111   1  84 148 128  31   5 156 155   8  70 134  47  91   3 150 107 157\n",
      "  70  64 148  59 161 162 104 132 157  16  19  17  89  23  73 104 103  18\n",
      "  83 127 125 152 125  60  66 158 158  21 141  60  13  17 158  33 134 120\n",
      "  99  18 148  24 128 136  14  99 102  41  66  92  76 158  74 118 156 150\n",
      "  21 141  22 128  79  17  30  33 122 126 151   9  18 153 132  99  36  98\n",
      " 101 128 119  35  34  27 116 147 131 114 140  72 155   8  83  45 155 109\n",
      "  26  40   4  41 159  56 142 123   1 125  43 110  94 105  13 158 112  38\n",
      "  83  13  94 137 131  39  24  54  14 131 132  90  65  17 113 131   7 153\n",
      "  13  49 107 140  27   7 103  14  10  13  40 156  59 146 113   1 105  96\n",
      " 153 156   8  31  74  44  79  22  10   5 151   1  94 104 146  78 126 158\n",
      "  39 101 160   8  30  87 142   8 158  65  42  76   5  10 118 158  13  88\n",
      " 119 129 143 138 120  12  63 154   7  41 134  33  94 145  20 130 105 153\n",
      "  30   3 149  81  16  10 152   1 147   8  47  85   9 154   9 147  58   2\n",
      " 107   6 128  33  27  31  51 142  26  21 157 150 116  34  54 101  15 125\n",
      "  32   7 125 141   9  28 150   6  11  89 128  66 151 119 148  31 130 128\n",
      "  83  62  63   6 102  10  39  85 137 154   9  14  30 107  74  48  82  72\n",
      "  87 123  61 139  12 115  89  78  25 141  81 147  33  22   6  15 153  48\n",
      "  84 144  69  12   8 147 153  50  90 104 152   4  15 113 145 147 152 131\n",
      " 107 137  33 115  45   8  58 105  32 156  11 103  61 118  85  66  34  35\n",
      " 155   9 104  65  65 140  23 123  41   9 108  62   8 105  20  92  67  99\n",
      "  43   9  62   5 105 151  28  17  93  92  53  53  28   3  24 116 158  75\n",
      "  77  65 141  26  82  89 163   2  24 157 158  40 153  24 159  16  20 145\n",
      "  80 124   7  72 137 127  99  37   9 109  86  26 120 144  14 162   5 119\n",
      "   9  34  97  59 159   9   9 143 106  38  19 107  22  36  76 116  35  10\n",
      "  50  80   1  48 140  52  72 102 159 160  48   3 132 151  73 153 150  73\n",
      " 138  13  90 130  52  47  57  12 156   8 137 158  15 113 119  38   3  17\n",
      " 108  28 143  85 125  26  12  54  75  71 121  16  37 155   3  76   6 115\n",
      " 147  55]\n"
     ]
    }
   ],
   "source": [
    "array = df[\"Games Played\"].to_numpy()\n",
    "print(array)"
   ]
  },
  {
   "cell_type": "code",
   "execution_count": 151,
   "id": "bef6ff0d",
   "metadata": {},
   "outputs": [
    {
     "data": {
      "text/plain": [
       "(array([10., 10.,  6., 13., 26.,  9.,  8., 10.,  9., 12.,  3.,  8.,  9.,\n",
       "         2.,  8.,  5., 10.,  5.,  6.,  8., 11.,  3.,  6.,  4., 10.,  3.,\n",
       "         2.,  2.,  5.,  9.,  3.,  2.,  8.,  5.,  4.,  5.,  2.,  6.,  6.,\n",
       "         5.,  6.,  3.,  3.,  7.,  3.,  9.,  6.,  2.,  4.,  2.,  6.,  8.,\n",
       "         1.,  4., 10.,  1.,  5.,  4.,  1.,  4.,  8.,  4.,  8.,  6.,  8.,\n",
       "         6.,  6.,  4.,  1.,  8.,  9.,  1., 10.,  3.,  5.,  5.,  6.,  6.,\n",
       "         8.,  6.,  9.,  1.,  5.,  6.,  2.,  5.,  5.,  9.,  5.,  2., 13.,\n",
       "         7.,  8., 14.,  3., 17., 21.,  5.,  7.,  3.]),\n",
       " array([  1.  ,   2.62,   4.24,   5.86,   7.48,   9.1 ,  10.72,  12.34,\n",
       "         13.96,  15.58,  17.2 ,  18.82,  20.44,  22.06,  23.68,  25.3 ,\n",
       "         26.92,  28.54,  30.16,  31.78,  33.4 ,  35.02,  36.64,  38.26,\n",
       "         39.88,  41.5 ,  43.12,  44.74,  46.36,  47.98,  49.6 ,  51.22,\n",
       "         52.84,  54.46,  56.08,  57.7 ,  59.32,  60.94,  62.56,  64.18,\n",
       "         65.8 ,  67.42,  69.04,  70.66,  72.28,  73.9 ,  75.52,  77.14,\n",
       "         78.76,  80.38,  82.  ,  83.62,  85.24,  86.86,  88.48,  90.1 ,\n",
       "         91.72,  93.34,  94.96,  96.58,  98.2 ,  99.82, 101.44, 103.06,\n",
       "        104.68, 106.3 , 107.92, 109.54, 111.16, 112.78, 114.4 , 116.02,\n",
       "        117.64, 119.26, 120.88, 122.5 , 124.12, 125.74, 127.36, 128.98,\n",
       "        130.6 , 132.22, 133.84, 135.46, 137.08, 138.7 , 140.32, 141.94,\n",
       "        143.56, 145.18, 146.8 , 148.42, 150.04, 151.66, 153.28, 154.9 ,\n",
       "        156.52, 158.14, 159.76, 161.38, 163.  ]),\n",
       " <BarContainer object of 100 artists>)"
      ]
     },
     "execution_count": 151,
     "metadata": {},
     "output_type": "execute_result"
    },
    {
     "data": {
      "image/png": "[encoded data removed]",
      "text/plain": [
       "<Figure size 640x480 with 1 Axes>"
      ]
     },
     "metadata": {},
     "output_type": "display_data"
    }
   ],
   "source": [
    "import numpy as np\n",
    "np.average(array)\n",
    "np.median(array)\n",
    "plt.hist(array,bins = 100)"
   ]
  },
  {
   "cell_type": "code",
   "execution_count": 152,
   "id": "4a11d06b",
   "metadata": {},
   "outputs": [
    {
     "name": "stdout",
     "output_type": "stream",
     "text": [
      "OF/DH\n",
      "Trumbo, Mark\n"
     ]
    }
   ],
   "source": [
    "max_i = df.loc[df[\"Home Runs\"].idxmax()]\n",
    "print(max_i.POS)\n",
    "print(max_i.PLAYER)"
   ]
  },
  {
   "cell_type": "code",
   "execution_count": 158,
   "id": "fe97083b",
   "metadata": {},
   "outputs": [],
   "source": [
    "first_base_players = df.loc[df[\"POS\"] == \"1B\"]\n",
    "outfield_players = df.loc[df[\"POS\"] == \"OF\"]"
   ]
  },
  {
   "cell_type": "code",
   "execution_count": 154,
   "id": "614eb41b",
   "metadata": {},
   "outputs": [
    {
     "data": {
      "text/plain": [
       "0.23502541806277605"
      ]
     },
     "execution_count": 154,
     "metadata": {},
     "output_type": "execute_result"
    }
   ],
   "source": [
    "first_base_players[\"Batting Average\"].mean()"
   ]
  },
  {
   "cell_type": "code",
   "execution_count": 155,
   "id": "804a7c16",
   "metadata": {},
   "outputs": [
    {
     "data": {
      "text/plain": [
       "0.2363271087471815"
      ]
     },
     "execution_count": 155,
     "metadata": {},
     "output_type": "execute_result"
    }
   ],
   "source": [
    "first_base_players[\"Batting Average\"].median()"
   ]
  },
  {
   "cell_type": "code",
   "execution_count": 156,
   "id": "fc7c2e4d",
   "metadata": {},
   "outputs": [
    {
     "data": {
      "text/plain": [
       "0.23882419416386277"
      ]
     },
     "execution_count": 156,
     "metadata": {},
     "output_type": "execute_result"
    }
   ],
   "source": [
    "outfield_players[\"Batting Average\"].mean()"
   ]
  },
  {
   "cell_type": "code",
   "execution_count": 157,
   "id": "5ac5f674",
   "metadata": {},
   "outputs": [
    {
     "data": {
      "text/plain": [
       "0.243083003952569"
      ]
     },
     "execution_count": 157,
     "metadata": {},
     "output_type": "execute_result"
    }
   ],
   "source": [
    "outfield_players[\"Batting Average\"].median()"
   ]
  },
  {
   "cell_type": "markdown",
   "id": "c9ca4aa2",
   "metadata": {},
   "source": [
    "The mean and median of outfield players is greater than the mean and median of first base players. Thus, we can conclude that outfield players hit more successfully than the first base players"
   ]
  },
  {
   "cell_type": "code",
   "execution_count": null,
   "id": "6eca0c58",
   "metadata": {},
   "outputs": [],
   "source": []
  }
 ],
 "metadata": {
  "kernelspec": {
   "display_name": "Python 3 (ipykernel)",
   "language": "python",
   "name": "python3"
  },
  "language_info": {
   "codemirror_mode": {
    "name": "ipython",
    "version": 3
   },
   "file_extension": ".py",
   "mimetype": "text/x-python",
   "name": "python",
   "nbconvert_exporter": "python",
   "pygments_lexer": "ipython3",
   "version": "3.9.13"
  }
 },
 "nbformat": 4,
 "nbformat_minor": 5
}
